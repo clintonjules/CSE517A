{
 "cells": [
  {
   "cell_type": "code",
   "execution_count": 2,
   "metadata": {},
   "outputs": [],
   "source": [
    "import numpy as np\n",
    "from sklearn.neighbors import KernelDensity\n",
    "import matplotlib.pyplot as plt\n",
    "import seaborn as sns\n",
    "import pandas as pd\n",
    "import scipy.stats as stats\n",
    "from sklearn.model_selection import KFold\n",
    "from sklearn.model_selection import cross_val_score\n",
    "from sklearn.ensemble import RandomForestRegressor\n",
    "from sklearn.metrics import mean_squared_error as MSE\n",
    "from sklearn.neighbors import KNeighborsRegressor\n",
    "from sklearn.linear_model import LinearRegression\n"
   ]
  },
  {
   "cell_type": "code",
   "execution_count": 7,
   "metadata": {},
   "outputs": [
    {
     "data": {
      "text/plain": [
       "False"
      ]
     },
     "execution_count": 7,
     "metadata": {},
     "output_type": "execute_result"
    }
   ],
   "source": [
    "data = \"data/train.csv\"\n",
    "df = pd.read_csv(data)\n",
    "\n",
    "df.isna().values.any()\n"
   ]
  },
  {
   "cell_type": "code",
   "execution_count": 8,
   "metadata": {},
   "outputs": [],
   "source": [
    "from sklearn.preprocessing import StandardScaler\n",
    "\n"
   ]
  },
  {
   "cell_type": "code",
   "execution_count": 9,
   "metadata": {},
   "outputs": [
    {
     "ename": "NameError",
     "evalue": "name 'X' is not defined",
     "output_type": "error",
     "traceback": [
      "\u001b[0;31m---------------------------------------------------------------------------\u001b[0m",
      "\u001b[0;31mNameError\u001b[0m                                 Traceback (most recent call last)",
      "Cell \u001b[0;32mIn[9], line 12\u001b[0m\n\u001b[1;32m     10\u001b[0m out_sample_err \u001b[39m=\u001b[39m []\n\u001b[1;32m     11\u001b[0m mse\u001b[39m=\u001b[39m[]\n\u001b[0;32m---> 12\u001b[0m \u001b[39mfor\u001b[39;00m train, test \u001b[39min\u001b[39;00m kf\u001b[39m.\u001b[39msplit(X):\n\u001b[1;32m     13\u001b[0m     model\u001b[39m.\u001b[39mfit(X\u001b[39m.\u001b[39miloc[train], np\u001b[39m.\u001b[39mravel(y\u001b[39m.\u001b[39miloc[train]))\n\u001b[1;32m     14\u001b[0m     model\u001b[39m.\u001b[39mfit(X\u001b[39m.\u001b[39miloc[train], np\u001b[39m.\u001b[39mravel(y\u001b[39m.\u001b[39miloc[train]))\n",
      "\u001b[0;31mNameError\u001b[0m: name 'X' is not defined"
     ]
    }
   ],
   "source": [
    "# random forest regressor\n",
    "kf = KFold(n_splits=10)\n",
    "random_forest_regressor = RandomForestRegressor(n_estimators=10)\n",
    "kng = KNeighborsRegressor(n_neighbors=4)\n",
    "models = [('Random Forest Regressor', random_forest_regressor), ('k-Nearest Neighbors', kng),('Linear Regression', LinearRegression())]\n",
    "in_sample_error = []\n",
    "out_sample_error = []\n",
    "for name, model in models:\n",
    "    in_sample_err = []\n",
    "    out_sample_err = []\n",
    "    mse=[]\n",
    "    for train, test in kf.split(X):\n",
    "        model.fit(X.iloc[train], np.ravel(y.iloc[train]))\n",
    "        model.fit(X.iloc[train], np.ravel(y.iloc[train]))\n",
    "        predict_train = model.predict(X.iloc[train])\n",
    "        predict_test = model.predict(X.iloc[test])\n",
    "        predict = model.predict(X)\n",
    "        mse.append((np.ravel(predict) - np.ravel(y))**2) \n",
    "        in_sample_err.append(MSE(predict_train, y.iloc[train]))\n",
    "        out_sample_err.append(MSE(predict_test, y.iloc[test]))\n",
    "    in_sample_error.append(in_sample_err)\n",
    "    out_sample_error.append(out_sample_err)\n",
    "    error = np.mean(mse, axis=0)\n",
    "    zscore = (error-np.mean(error))/np.std(error)\n",
    "    \n",
    "    kde = KernelDensity(kernel='gaussian', bandwidth=0.5).fit(zscore.reshape(-1,1))\n",
    "    # create a set of x-values at which to evaluate the KDE\n",
    "    x_vals = np.linspace(np.min(error), np.max(error), 1000).reshape(-1,1)\n",
    "    # get the corresponding y-values by evaluating the KDE at the x-values \n",
    "    y_vals = np.exp(kde.score_samples(x_vals))\n",
    "    # plot the KDE\n",
    "    plt.title(name)\n",
    "    plt.plot(x_vals, y_vals)\n",
    "    plt.xlabel('error')\n",
    "    plt.ylabel('Density')\n",
    "    plt.show()\n",
    "    print(name,'in sample error:',np.mean(in_sample_err))\n",
    "    print(name,'out sample error:',np.mean(out_sample_err))\n",
    "print('in sample t-Test')\n",
    "print('Random Forest Regressor and k-Nearest Neighbors',stats.ttest_rel(in_sample_error[0], in_sample_error[1]))\n",
    "print('Random Forest Regressor and Linear Regression',stats.ttest_rel(in_sample_error[0], in_sample_error[2]))\n",
    "print('k-Nearest Neighbors and Linear Regression',stats.ttest_rel(in_sample_error[1], in_sample_error[2]))\n",
    "print('out sample t-Test')\n",
    "print('Random Forest Regressor and knn',stats.ttest_rel(out_sample_error[0], out_sample_error[1]))\n",
    "print('Random Forest Regressor and Linear Regression',stats.ttest_rel(out_sample_error[0], out_sample_error[2]))\n",
    "print('k-Nearest Neighbors and Linear Regression',stats.ttest_rel(out_sample_error[1], out_sample_error[2]))"
   ]
  },
  {
   "cell_type": "code",
   "execution_count": null,
   "metadata": {},
   "outputs": [],
   "source": []
  }
 ],
 "metadata": {
  "kernelspec": {
   "display_name": "base",
   "language": "python",
   "name": "python3"
  },
  "language_info": {
   "codemirror_mode": {
    "name": "ipython",
    "version": 3
   },
   "file_extension": ".py",
   "mimetype": "text/x-python",
   "name": "python",
   "nbconvert_exporter": "python",
   "pygments_lexer": "ipython3",
   "version": "3.9.16"
  },
  "orig_nbformat": 4
 },
 "nbformat": 4,
 "nbformat_minor": 2
}

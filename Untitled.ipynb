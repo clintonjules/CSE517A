{
 "cells": [
  {
   "cell_type": "code",
   "execution_count": 1,
   "metadata": {},
   "outputs": [],
   "source": [
    "import numpy as np\n",
    "from ridge import ridge\n",
    "from checkgradHingeAndRidge import checkgradHingeAndRidge"
   ]
  },
  {
   "cell_type": "code",
   "execution_count": 2,
   "id": "7299a1d7",
   "metadata": {},
   "outputs": [],
   "source": [
    "r=0\n",
    "ok=0\n",
    "s=[]  #used to be matlab cell array\n",
    "\n",
    "# data set\n",
    "N=50\n",
    "D=5\n",
    "\n",
    "x=np.concatenate((np.random.randn(D,N),np.random.randn(D,N)+2),axis=1)\n",
    "y=np.concatenate((np.ones((1,N)),-np.ones((1,N))),axis=1)"
   ]
  },
  {
   "cell_type": "code",
   "execution_count": 3,
   "id": "d718e8b0",
   "metadata": {},
   "outputs": [
    {
     "name": "stdout",
     "output_type": "stream",
     "text": [
      "Starting Test 4\n",
      "\n",
      "dh: [[1225.26359188]\n",
      " [1307.46889972]\n",
      " [1206.77701311]\n",
      " [1507.16167491]\n",
      " [1269.26850224]]\n",
      "dy: [[1225.26359187]\n",
      " [1307.46889973]\n",
      " [1206.77701309]\n",
      " [1507.1616749 ]\n",
      " [1269.26850222]]\n",
      "[[ 6.49947651e-09]\n",
      " [-9.19158083e-09]\n",
      " [ 1.90184437e-08]\n",
      " [ 1.08038876e-08]\n",
      " [ 2.08672191e-08]]\n",
      "Completed Test 4\n",
      "\n"
     ]
    }
   ],
   "source": [
    "print('Starting Test 4\\n')\n",
    "#Test 4: testing gradient of ridge\n",
    "d = checkgradHingeAndRidge(ridge,np.random.rand(D, 1), 1e-05, x,y,10)\n",
    "failtest = d > 1e-10\n",
    "\n",
    "if failtest:\n",
    "    r = r+1\n",
    "    s.append('Test 4: Ridge function does not pass checkgrad.')\n",
    "else:\n",
    "    ok=ok+1\n",
    "print('Completed Test 4\\n')"
   ]
  },
  {
   "cell_type": "code",
   "execution_count": null,
   "id": "ef7e1a8c",
   "metadata": {},
   "outputs": [],
   "source": []
  }
 ],
 "metadata": {
  "kernelspec": {
   "display_name": "base",
   "language": "python",
   "name": "python3"
  },
  "language_info": {
   "codemirror_mode": {
    "name": "ipython",
    "version": 3
   },
   "file_extension": ".py",
   "mimetype": "text/x-python",
   "name": "python",
   "nbconvert_exporter": "python",
   "pygments_lexer": "ipython3",
   "version": "3.9.12"
  },
  "vscode": {
   "interpreter": {
    "hash": "5a95082f71c38c6aaa602053bdba8e66028b9cbc3bad332cd25eb4c9d7f89ba4"
   }
  }
 },
 "nbformat": 4,
 "nbformat_minor": 5
}

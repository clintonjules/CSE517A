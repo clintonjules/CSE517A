{
 "cells": [
  {
   "cell_type": "markdown",
   "metadata": {},
   "source": []
  },
  {
   "attachments": {},
   "cell_type": "markdown",
   "metadata": {},
   "source": [
    "### Models\n",
    "\n",
    "#### Model Options\n",
    "- Linear Regression (or Kernelized Regression)\n",
    "  - KernelDensity(kernel='linear')\n",
    "- K-Nearest Neighbors\n",
    "  - KernelDensity()\n",
    "- Gaussian Processes\n",
    "  - KernelDensity(kernel='gaussian')\n",
    "- Neural Networks\n",
    "- Random Forest Regressor\n",
    "- Adaptive or Gradient Boosting Regressor\n",
    "- \"linear\", \"gaussian\", "
   ]
  },
  {
   "cell_type": "markdown",
   "metadata": {},
   "source": []
  },
  {
   "cell_type": "code",
   "execution_count": null,
   "metadata": {},
   "outputs": [],
   "source": [
    "import numpy as np\n",
    "from sklearn.neighbors import KernelDensity\n",
    "import matplotlib.pyplot as plt\n",
    "import seaborn as sns\n",
    "import pandas as pd\n",
    "import scipy.stats as stats"
   ]
  },
  {
   "cell_type": "code",
   "execution_count": null,
   "metadata": {},
   "outputs": [],
   "source": [
    "data = \"data/train.csv\"\n",
    "df = pd.read_csv(data)"
   ]
  },
  {
   "cell_type": "code",
   "execution_count": null,
   "metadata": {},
   "outputs": [],
   "source": [
    "# extract the features & target variable from the dataframe\n",
    "\n",
    "X = df.iloc[:,:-1]\n",
    "y = df.iloc[:,-1:]\n",
    "    # alt method: y = df['target']\n"
   ]
  },
  {
   "cell_type": "code",
   "execution_count": null,
   "metadata": {},
   "outputs": [],
   "source": [
    "# compute basic descriptive statistics for the target variable\n",
    "mean = np.mean(y)\n",
    "median = np.median(y)\n",
    "std_dev = np.std(y)\n",
    "min_val = np.min(y)\n",
    "max_val = np.max(y)\n",
    "y_range = max_val - min_val\n",
    "\n",
    "print(\"Mean:\", mean)\n",
    "print(\"Median:\", median)\n",
    "print(\"Standard Deviation:\", std_dev)\n",
    "print(\"Minimum Value:\", min_val)\n",
    "print(\"Maximum Value:\", max_val)\n",
    "print(\"Range:\", y_range)\n"
   ]
  },
  {
   "cell_type": "code",
   "execution_count": null,
   "metadata": {},
   "outputs": [],
   "source": [
    "# create a kernel density estimate of the target's distribution\n",
    "kde = KernelDensity(kernel='gaussian', bandwidth=0.5).fit(y.to_numpy().reshape(-1,1))\n",
    "\n",
    "# create a set of x-values at which to evaluate the KDE\n",
    "x_vals = np.linspace(min_val, max_val, 1000).reshape(-1,1)\n",
    "\n",
    "# get the corresponding y-values by evaluating the KDE at the x-values \n",
    "y_vals = np.exp(kde.score_samples(x_vals))\n",
    "\n",
    "# plot the KDE\n",
    "plt.plot(x_vals, y_vals)\n",
    "plt.xlabel('Target Variable')\n",
    "plt.ylabel('Density')\n",
    "plt.show()\n",
    "\n",
    "# Alternative methods\n",
    "# sns.displot(y, kind=\"kde\")\n",
    "# sns.kdeplot(y)"
   ]
  },
  {
   "attachments": {},
   "cell_type": "markdown",
   "metadata": {},
   "source": [
    "#### Data Exploration: Target "
   ]
  },
  {
   "cell_type": "code",
   "execution_count": null,
   "metadata": {},
   "outputs": [],
   "source": [
    "y.head()\n",
    "\n",
    "print(y.describe())\n",
    "# [\"count\", \"mean\", \"std\", \"min\", \"q1\", \"q2\", \"q3\", \"max\"]"
   ]
  },
  {
   "attachments": {},
   "cell_type": "markdown",
   "metadata": {},
   "source": [
    "#### Data Exploration: Features"
   ]
  },
  {
   "cell_type": "code",
   "execution_count": null,
   "metadata": {},
   "outputs": [],
   "source": [
    "X.head()\n",
    "X.describe()\n",
    "feature_list = X.columns.values.tolist()"
   ]
  },
  {
   "cell_type": "code",
   "execution_count": null,
   "metadata": {},
   "outputs": [],
   "source": []
  },
  {
   "cell_type": "code",
   "execution_count": null,
   "metadata": {},
   "outputs": [],
   "source": [
    "# for each in featurelist:\n",
    "    # sns.displot(X)\n",
    "# sns.displot(X, kind=\"kde\")"
   ]
  }
 ],
 "metadata": {
  "kernelspec": {
   "display_name": "base",
   "language": "python",
   "name": "python3"
  },
  "language_info": {
   "codemirror_mode": {
    "name": "ipython",
    "version": 3
   },
   "file_extension": ".py",
   "mimetype": "text/x-python",
   "name": "python",
   "nbconvert_exporter": "python",
   "pygments_lexer": "ipython3",
   "version": "3.9.16"
  },
  "orig_nbformat": 4
 },
 "nbformat": 4,
 "nbformat_minor": 2
}
